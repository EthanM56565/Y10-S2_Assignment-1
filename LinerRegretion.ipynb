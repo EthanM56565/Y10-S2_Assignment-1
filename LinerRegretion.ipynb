{
 "cells": [
  {
   "cell_type": "code",
   "execution_count": 4,
   "metadata": {},
   "outputs": [],
   "source": [
    "#imports all needed packages for the program \n",
    "import pandas as pd\n",
    "import numpy as np\n",
    "import sklearn\n",
    "from sklearn import linear_model\n",
    "from sklearn.utils import shuffle\n",
    "#\n",
    "data = pd.read_csv(\"student-mat.csv\", sep=\";\")\n",
    "\n",
    "data = data[[\"G1\", \"G2\", \"G3\", \"studytime\", \"failures\", \"absences\"]]\n",
    "\n",
    "predict = \"G3\"\n"
   ]
  },
  {
   "cell_type": "code",
   "execution_count": 5,
   "metadata": {},
   "outputs": [],
   "source": [
    "#selecting a certain dataframe for the colums of the graph. \n",
    "data = pd.read_csv(\"student-mat.csv\", sep=\";\")\n",
    "\n",
    "data = data[[\"G1\", \"G2\", \"G3\", \"studytime\", \"failures\", \"absences\"]]\n",
    "\n",
    "predict = \"G3\""
   ]
  },
  {
   "cell_type": "code",
   "execution_count": 6,
   "metadata": {},
   "outputs": [
    {
     "name": "stdout",
     "output_type": "stream",
     "text": [
      "0.7806467794399095\n",
      "Coefficient: \n",
      " [ 0.18480444  0.96754006 -0.25051603 -0.29058636  0.03896335]\n",
      "Intercept: \n",
      " -1.6278390069045443\n",
      "8.840160631397485 [ 7 10  2  0  0] 11\n",
      "9.103987595515916 [10 10  2  1  0] 0\n",
      "6.917295620986218 [8 8 3 0 2] 10\n",
      "7.45949383062135 [10  8  2  0  0] 9\n",
      "8.299058245670432 [ 7 10  3  1  0] 10\n",
      "6.122344888469241 [8 7 2 0 0] 8\n",
      "16.530205950040216 [15 16  1  0  4] 15\n",
      "5.687024419631781 [7 7 3 0 0] 8\n",
      "5.983047483003581 [ 7  6  2  0 26] 6\n",
      "16.386567662504437 [16 16  2  0  2] 17\n",
      "19.420495810488166 [19 19  4  0  4] 20\n",
      "12.166823154443758 [12 12  2  0 12] 11\n",
      "19.097626093546758 [18 18  1  0  6] 18\n",
      "8.750955802467702 [11  9  3  0 10] 10\n",
      "13.192265297770502 [14 13  2  0  4] 13\n",
      "15.688516053456624 [14 16  3  0  0] 16\n",
      "13.598634725516634 [14 13  1  0  8] 13\n",
      "6.422954935460217 [ 7  8  2  3 10] 10\n",
      "12.559925276552125 [11 13  2  0  2] 14\n",
      "11.526673627578601 [12 12  3  0  2] 11\n",
      "12.962869710868814 [14 13  3  1 12] 13\n",
      "-0.7695283922139258 [6 0 1 0 0] 0\n",
      "16.275169104369244 [16 16  4  0 12] 16\n",
      "10.177309573549591 [ 9 11  2  0  0] 12\n",
      "14.50046319883128 [15 14  2  0  8] 14\n",
      "12.559925276552125 [11 13  2  0  2] 13\n",
      "12.935014493685566 [15 13  3  2 14] 13\n",
      "10.797434482891063 [11 11  1  0  0] 12\n",
      "8.332371262844667 [10  9  3  0  4] 9\n",
      "5.51222113259071 [7 7 2 2 4] 9\n",
      "14.016167071378806 [15 14  3  0  2] 15\n",
      "12.089992278645497 [14 12  2  1  8] 12\n",
      "15.932274769904154 [17 15  1  0  4] 16\n",
      "9.5504273523222 [10 10  2  0  4] 11\n",
      "5.921856712511667 [ 7  6  1  0 18] 6\n",
      "4.863122646023475 [6 6 2 0 2] 6\n",
      "19.1755527932531 [18 18  1  0  8] 18\n",
      "15.786433679253314 [16 15  1  0  5] 16\n",
      "8.126468917043324 [ 7 10  4  1  2] 10\n",
      "15.545929959681704 [15 15  2  0 10] 15\n"
     ]
    }
   ],
   "source": [
    "X = np.array(data.drop(columns=[predict]))\n",
    "y = np.array(data[predict])\n",
    "#spliting the data into x and y variables\n",
    "x_train, x_test, y_train, y_test = sklearn.model_selection.train_test_split(X, y, test_size = 0.1)\n",
    "\n",
    "linear = linear_model.LinearRegression()\n",
    "\n",
    "linear.fit(x_train, y_train)\n",
    "acc = linear.score(x_test, y_test)\n",
    "print(acc)\n",
    "\n",
    "print('Coefficient: \\n', linear.coef_)\n",
    "print('Intercept: \\n', linear.intercept_)\n",
    "\n",
    "predictions = linear.predict(x_test)\n",
    "#printing the data \n",
    "for x in range(len(predictions)):\n",
    "    print(predictions[x], x_test[x], y_test[x])"
   ]
  }
 ],
 "metadata": {
  "kernelspec": {
   "display_name": "Python 3",
   "language": "python",
   "name": "python3"
  },
  "language_info": {
   "codemirror_mode": {
    "name": "ipython",
    "version": 3
   },
   "file_extension": ".py",
   "mimetype": "text/x-python",
   "name": "python",
   "nbconvert_exporter": "python",
   "pygments_lexer": "ipython3",
   "version": "3.10.7"
  },
  "orig_nbformat": 4
 },
 "nbformat": 4,
 "nbformat_minor": 2
}
